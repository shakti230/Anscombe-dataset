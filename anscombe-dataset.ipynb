# Mary McDonagh
# Fundamentals of Data Analysis
# Analysis of Anscombe Dataset
## Delivery Date: Before November 11th

# Background of Anscombe Dataset


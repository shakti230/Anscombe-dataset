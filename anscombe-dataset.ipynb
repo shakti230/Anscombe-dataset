# Mary McDonagh
# Fundamentals of Data Analysis
# Analysis of Anscombe Dataset
## Delivery Date: Before November 11th

# Background of Anscombe Dataset
### Anscombe’s quartet comprises of four datasets that have almost identical simple statistical properties, yet appear very different when they are represented in a graph. Each dataset consists of eleven (x,y) points. They were constructed in 1973 by the statistician Francis Anscombe to demonstrate both the importance of graphing data before analyzing it and the effect of outliers on statistical properties. All of them have the same mean and variance and the same correlation between them.





#References
#http://complementarytraining.net/stats-playbook-what-is-anscombes-quartet-and-why-is-it-important/
#https://www.jstor.org/stable/2682899?seq=1#page_scan_tab_contents

